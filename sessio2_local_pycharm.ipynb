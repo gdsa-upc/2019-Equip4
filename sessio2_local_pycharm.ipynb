{
 "cells": [
  {
   "cell_type": "code",
   "execution_count": 267,
   "outputs": [
    {
     "name": "stdout",
     "text": [
      "C:\\Users\\Arnau\\Desktop\\ProvesPyCharm\\DSCN8128-2.jpg\nC:\\Users\\Arnau\\Desktop\\ProvesPyCharm\\DSCN8129-2.jpg\nC:\\Users\\Arnau\\Desktop\\ProvesPyCharm\\IMG_20191116_115540-2.jpg\nC:\\Users\\Arnau\\Desktop\\ProvesPyCharm\\IMG_20191116_115752-2.jpg\nC:\\Users\\Arnau\\Desktop\\ProvesPyCharm\\IMG_20191116_115826-2.jpg\nC:\\Users\\Arnau\\Desktop\\ProvesPyCharm\\IMG_20191119_143948-2.jpg\nC:\\Users\\Arnau\\Desktop\\ProvesPyCharm\\IMG_20191119_144209-2.jpg\nC:\\Users\\Arnau\\Desktop\\ProvesPyCharm\\IMG_4026-2.jpg\nC:\\Users\\Arnau\\Desktop\\ProvesPyCharm\\IMG_4029-2.jpg\nx_train shape:  (9, 28, 28)\n"
     ],
     "output_type": "stream"
    }
   ],
   "source": [
    "from PIL import Image\n",
    "from skimage import color\n",
    "from skimage import io\n",
    "import numpy as np\n",
    "import matplotlib.pyplot as plt\n",
    "\n",
    "x_train = []\n",
    "files = glob.glob(\"C:\\\\Users\\\\Arnau\\\\Desktop\\\\ProvesPyCharm\\\\*.jpg\")\n",
    "for myFile in files:\n",
    "    print(myFile)\n",
    "    image = color.rgb2gray(cv2.imread(myFile))\n",
    "    x_train.append(image)\n",
    "    \n",
    "print ('x_train shape: ', np.array(x_train).shape)"
   ],
   "metadata": {
    "collapsed": false,
    "pycharm": {
     "name": "#%%\n",
     "is_executing": false
    }
   }
  },
  {
   "cell_type": "code",
   "execution_count": 268,
   "outputs": [
    {
     "name": "stdout",
     "text": [
      "C:\\Users\\Arnau\\Desktop\\ProvesPyCharm\\DSCN8128-2.jpg\nC:\\Users\\Arnau\\Desktop\\ProvesPyCharm\\DSCN8129-2.jpg\nC:\\Users\\Arnau\\Desktop\\ProvesPyCharm\\IMG_20191116_115540-2.jpg\nC:\\Users\\Arnau\\Desktop\\ProvesPyCharm\\IMG_20191116_115752-2.jpg\nC:\\Users\\Arnau\\Desktop\\ProvesPyCharm\\IMG_20191116_115826-2.jpg\nC:\\Users\\Arnau\\Desktop\\ProvesPyCharm\\IMG_20191119_143948-2.jpg\nC:\\Users\\Arnau\\Desktop\\ProvesPyCharm\\IMG_20191119_144209-2.jpg\nC:\\Users\\Arnau\\Desktop\\ProvesPyCharm\\IMG_4026-2.jpg\nC:\\Users\\Arnau\\Desktop\\ProvesPyCharm\\IMG_4029-2.jpg\nx_train shape:  (9, 28, 28)\n"
     ],
     "output_type": "stream"
    }
   ],
   "source": [
    "from PIL import Image\n",
    "from skimage import color\n",
    "from skimage import io\n",
    "import numpy as np\n",
    "import matplotlib.pyplot as plt\n",
    "\n",
    "x_test = []\n",
    "files = glob.glob(\"C:\\\\Users\\\\Arnau\\\\Desktop\\\\ProvesPyCharm\\\\*.jpg\")\n",
    "for myFile in files:\n",
    "    print(myFile)\n",
    "    image = color.rgb2gray(cv2.imread(myFile))\n",
    "    x_test.append(image)\n",
    "    \n",
    "print ('x_train shape: ', np.array(x_train).shape)"
   ],
   "metadata": {
    "collapsed": false,
    "pycharm": {
     "name": "#%%\n",
     "is_executing": false
    }
   }
  },
  {
   "cell_type": "code",
   "execution_count": 269,
   "outputs": [
    {
     "data": {
      "text/plain": "<matplotlib.image.AxesImage at 0x2ac08f70>"
     },
     "metadata": {},
     "output_type": "execute_result",
     "execution_count": 269
    },
    {
     "data": {
      "text/plain": "<Figure size 432x288 with 1 Axes>",
      "image/png": "[encoded data removed]"
     },
     "metadata": {
      "needs_background": "light"
     },
     "output_type": "display_data"
    }
   ],
   "source": [
    "plt.imshow(x_train[2])"
   ],
   "metadata": {
    "collapsed": false,
    "pycharm": {
     "name": "#%%\n",
     "is_executing": false
    }
   }
  },
  {
   "cell_type": "code",
   "execution_count": 270,
   "outputs": [
    {
     "data": {
      "text/plain": "<matplotlib.image.AxesImage at 0x2ac44b10>"
     },
     "metadata": {},
     "output_type": "execute_result",
     "execution_count": 270
    },
    {
     "data": {
      "text/plain": "<Figure size 432x288 with 1 Axes>",
      "image/png": "[encoded data removed]"
     },
     "metadata": {
      "needs_background": "light"
     },
     "output_type": "display_data"
    }
   ],
   "source": [
    "plt.imshow(x_test[2])"
   ],
   "metadata": {
    "collapsed": false,
    "pycharm": {
     "name": "#%% \n",
     "is_executing": false
    }
   }
  },
  {
   "cell_type": "code",
   "execution_count": 271,
   "outputs": [
    {
     "name": "stdout",
     "text": [
      "(9, 784)\n[[0.0627451  0.06666667 0.07058824 ... 0.54117647 0.35294118 0.57647059]\n [0.54117647 0.39607843 0.30196078 ... 0.45882353 0.48235294 0.36862745]\n [0.85098039 0.84313725 0.82745098 ... 0.0745098  0.08627451 0.09411765]\n ...\n [0.2        0.32156863 0.57254902 ... 0.44313725 0.4627451  0.50196078]\n [0.64705882 0.61176471 0.7254902  ... 0.49411765 0.49019608 0.49019608]\n [0.78823529 0.80392157 0.80784314 ... 0.4        0.40392157 0.34509804]]\n"
     ],
     "output_type": "stream"
    }
   ],
   "source": [
    "xr_train = np.reshape(x_train, (9, 784))\n",
    "print(xr_train.shape)\n",
    "print(xr_train)"
   ],
   "metadata": {
    "collapsed": false,
    "pycharm": {
     "name": "#%%\n",
     "is_executing": false
    }
   }
  },
  {
   "cell_type": "code",
   "execution_count": 272,
   "outputs": [
    {
     "name": "stdout",
     "text": [
      "(9, 784)\n[[0.0627451  0.06666667 0.07058824 ... 0.54117647 0.35294118 0.57647059]\n [0.54117647 0.39607843 0.30196078 ... 0.45882353 0.48235294 0.36862745]\n [0.85098039 0.84313725 0.82745098 ... 0.0745098  0.08627451 0.09411765]\n ...\n [0.2        0.32156863 0.57254902 ... 0.44313725 0.4627451  0.50196078]\n [0.64705882 0.61176471 0.7254902  ... 0.49411765 0.49019608 0.49019608]\n [0.78823529 0.80392157 0.80784314 ... 0.4        0.40392157 0.34509804]]\n"
     ],
     "output_type": "stream"
    }
   ],
   "source": [
    "xr_test = np.reshape(x_test, (9, 784))\n",
    "print(xr_test.shape)\n",
    "print(xr_test)"
   ],
   "metadata": {
    "collapsed": false,
    "pycharm": {
     "name": "#%%\n",
     "is_executing": false
    }
   }
  },
  {
   "cell_type": "code",
   "execution_count": 273,
   "outputs": [
    {
     "name": "stdout",
     "text": [
      "(9, 784)\n[[0.00421694 0.0044805  0.00474406 ... 0.03637111 0.02372029 0.03874313]\n [0.04230109 0.0309595  0.02360278 ... 0.03586397 0.03770315 0.02881379]\n [0.0672604  0.06664049 0.06540067 ... 0.00588916 0.00681903 0.00743894]\n ...\n [0.01594756 0.02564118 0.04565381 ... 0.0353348  0.03689828 0.04002526]\n [0.04963211 0.0469249  0.05564812 ... 0.03790088 0.03760008 0.03760008]\n [0.05141023 0.05243332 0.05268909 ... 0.02608877 0.02634454 0.02250796]]\n"
     ],
     "output_type": "stream"
    }
   ],
   "source": [
    "from sklearn import preprocessing\n",
    "xr_test = preprocessing.normalize(xr_test, norm='l2', axis=1, copy=True, return_norm=False)\n",
    "print(xr_test.shape)\n",
    "print(xr_test)"
   ],
   "metadata": {
    "collapsed": false,
    "pycharm": {
     "name": "#%%\n",
     "is_executing": false
    }
   }
  },
  {
   "cell_type": "code",
   "execution_count": 274,
   "outputs": [
    {
     "name": "stdout",
     "text": [
      "(9, 784)\n[[0.00421694 0.0044805  0.00474406 ... 0.03637111 0.02372029 0.03874313]\n [0.04230109 0.0309595  0.02360278 ... 0.03586397 0.03770315 0.02881379]\n [0.0672604  0.06664049 0.06540067 ... 0.00588916 0.00681903 0.00743894]\n ...\n [0.01594756 0.02564118 0.04565381 ... 0.0353348  0.03689828 0.04002526]\n [0.04963211 0.0469249  0.05564812 ... 0.03790088 0.03760008 0.03760008]\n [0.05141023 0.05243332 0.05268909 ... 0.02608877 0.02634454 0.02250796]]\n"
     ],
     "output_type": "stream"
    }
   ],
   "source": [
    "from sklearn import preprocessing\n",
    "xr_train = preprocessing.normalize(xr_train)\n",
    "print(xr_train.shape)\n",
    "print(xr_train)"
   ],
   "metadata": {
    "collapsed": false,
    "pycharm": {
     "name": "#%%\n",
     "is_executing": false
    }
   }
  },
  {
   "cell_type": "code",
   "execution_count": 275,
   "outputs": [
    {
     "name": "stdout",
     "text": [
      "xrt_train shape: (784, 9)\n"
     ],
     "output_type": "stream"
    }
   ],
   "source": [
    "xrt_train = xr_train.transpose()\n",
    "print(\"xrt_train shape:\", xrt_train.shape)"
   ],
   "metadata": {
    "collapsed": false,
    "pycharm": {
     "name": "#%%\n",
     "is_executing": false
    }
   }
  },
  {
   "cell_type": "code",
   "execution_count": 276,
   "outputs": [
    {
     "name": "stdout",
     "text": [
      "x_simil: (9, 9)\n"
     ],
     "output_type": "stream"
    }
   ],
   "source": [
    "x_simil = np.matmul(xr_test, xrt_train)\n",
    "print(\"x_simil:\", x_simil.shape)"
   ],
   "metadata": {
    "collapsed": false,
    "pycharm": {
     "name": "#%%\n",
     "is_executing": false
    }
   }
  },
  {
   "cell_type": "code",
   "execution_count": 277,
   "outputs": [
    {
     "name": "stdout",
     "text": [
      "[[0 4 3 1 8 5 6 7 2]\n [1 3 8 0 4 6 5 7 2]\n [2 8 3 4 5 7 6 0 1]\n [3 8 4 1 5 7 0 2 6]\n [4 3 8 0 1 6 7 2 5]\n [5 3 7 8 1 4 6 2 0]\n [6 8 3 4 1 5 0 7 2]\n [7 3 5 8 4 1 0 2 6]\n [8 3 4 1 2 7 6 5 0]]\n"
     ],
     "output_type": "stream"
    }
   ],
   "source": [
    "ranks = np.argsort(x_simil, axis=1)[:,::-1]\n",
    "print(ranks)"
   ],
   "metadata": {
    "collapsed": false,
    "pycharm": {
     "name": "#%%\n",
     "is_executing": false
    }
   }
  },
  {
   "cell_type": "code",
   "execution_count": 278,
   "outputs": [
    {
     "data": {
      "text/plain": "<Figure size 432x288 with 1 Axes>",
      "image/png": "[encoded data removed]"
     },
     "metadata": {
      "needs_background": "light"
     },
     "output_type": "display_data"
    }
   ],
   "source": [
    "from PIL import Image, ImageOps\n",
    "#import matplotlib.pyplot as plt\n",
    "\n",
    "#(x_train), (x_test) = tf.keras.datasets.fashion_mnist.load_data()\n",
    "\n",
    "# get the original images for visualization\n",
    "x_train_images = np.reshape(x_train, (9, 28, 28))\n",
    "x_test_images = np.reshape(x_test, (9, 28, 28))\n",
    "\n",
    "h,w = (28, 28)\n",
    "new_image = Image.new('RGB', (w*9,h*9))\n",
    "\n",
    "# Visualize ranks of the 10 queries\n",
    "offset = 0 # it will show results from query #'offset' to #offset+10\n",
    "for q in range(9):\n",
    "  ranks_q = ranks[q*(offset+1),:]\n",
    "  for i in range(9):\n",
    "      new_image.paste( Image.fromarray(x_train_images[ranks_q[i]]), (h*(1+i),w*q ))\n",
    "\n",
    "  # visualize query\n",
    "  ima_q = Image.fromarray(x_test_images[q*(offset+1)])\n",
    "  ima_q = ImageOps.expand(ima_q, border=3, fill='red')\n",
    "\n",
    "  new_image.paste(ima_q, (0,w*q))\n",
    "\n",
    "plt.imshow(new_image)\n",
    "plt.axis('off')\n",
    "plt.show()\n",
    "\n",
    "\n"
   ],
   "metadata": {
    "collapsed": false,
    "pycharm": {
     "name": "#%%\n",
     "is_executing": false
    }
   }
  }
 ],
 "metadata": {
  "kernelspec": {
   "display_name": "Python 3",
   "language": "python",
   "name": "python3"
  },
  "language_info": {
   "codemirror_mode": {
    "name": "ipython",
    "version": 2
   },
   "file_extension": ".py",
   "mimetype": "text/x-python",
   "name": "python",
   "nbconvert_exporter": "python",
   "pygments_lexer": "ipython2",
   "version": "2.7.6"
  },
  "pycharm": {
   "stem_cell": {
    "cell_type": "raw",
    "source": [],
    "metadata": {
     "collapsed": false
    }
   }
  }
 },
 "nbformat": 4,
 "nbformat_minor": 0
}