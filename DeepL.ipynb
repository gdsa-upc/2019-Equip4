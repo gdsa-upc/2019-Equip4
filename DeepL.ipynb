{
  "nbformat": 4,
  "nbformat_minor": 0,
  "metadata": {
    "colab": {
      "name": "DL.ipynb",
      "provenance": [],
      "collapsed_sections": []
    },
    "kernelspec": {
      "name": "python3",
      "display_name": "Python 3"
    }
  },
  "cells": [
    {
      "cell_type": "code",
      "metadata": {
        "id": "CwysUMaUyHBQ",
        "colab_type": "code",
        "colab": {}
      },
      "source": [
        "\n",
        "import numpy as np\n",
        "import matplotlib.pyplot as plt\n",
        "import os, shutil\n",
        "import sklearn.preprocessing\n",
        "import matplotlib\n",
        "import zipfile\n",
        "from PIL import Image"
      ],
      "execution_count": 0,
      "outputs": []
    },
    {
      "cell_type": "code",
      "metadata": {
        "id": "qWku6fKbyl8N",
        "colab_type": "code",
        "colab": {}
      },
      "source": [
        "from google.colab import files\n",
        "import numpy as np\n",
        "import cv2\n",
        "import matplotlib.pyplot as plt\n",
        "import sklearn.preprocessing as skl\n",
        "from PIL import Image, ImageOps\n",
        "from os import scandir, getcwd\n",
        "from os import listdir\n",
        "import os\n",
        "from os.path import isfile, join\n",
        "import zipfile                          # Per importació a partir de ZIP\n",
        "import io"
      ],
      "execution_count": 0,
      "outputs": []
    },
    {
      "cell_type": "code",
      "metadata": {
        "id": "hbK6WQFJmlsR",
        "colab_type": "code",
        "colab": {}
      },
      "source": [
        "from __future__ import print_function, division\n",
        "\n",
        "import torch\n",
        "import torch.nn as nn\n",
        "import torch.optim as optim\n",
        "from torch.optim import lr_scheduler\n",
        "import numpy as np\n",
        "import torchvision\n",
        "from torchvision import datasets, models, transforms\n",
        "import matplotlib.pyplot as plt\n",
        "import time\n",
        "import os\n",
        "import copy"
      ],
      "execution_count": 0,
      "outputs": []
    },
    {
      "cell_type": "code",
      "metadata": {
        "id": "7IfX2lTgyr9E",
        "colab_type": "code",
        "outputId": "eb846829-9332-497b-91bf-649ab34c2518",
        "colab": {
          "base_uri": "https://localhost:8080/",
          "height": 289
        }
      },
      "source": [
        "!wget \"https://github.com/gdsa-upc/2019-Equip4/raw/master/TB2019.zip\" -O Dades.zip"
      ],
      "execution_count": 16,
      "outputs": [
        {
          "output_type": "stream",
          "text": [
            "--2019-12-08 09:16:23--  https://github.com/gdsa-upc/2019-Equip4/raw/master/TB2019.zip\n",
            "Resolving github.com (github.com)... 140.82.118.3\n",
            "Connecting to github.com (github.com)|140.82.118.3|:443... connected.\n",
            "HTTP request sent, awaiting response... 302 Found\n",
            "Location: https://raw.githubusercontent.com/gdsa-upc/2019-Equip4/master/TB2019.zip [following]\n",
            "--2019-12-08 09:16:23--  https://raw.githubusercontent.com/gdsa-upc/2019-Equip4/master/TB2019.zip\n",
            "Resolving raw.githubusercontent.com (raw.githubusercontent.com)... 151.101.0.133, 151.101.64.133, 151.101.128.133, ...\n",
            "Connecting to raw.githubusercontent.com (raw.githubusercontent.com)|151.101.0.133|:443... connected.\n",
            "HTTP request sent, awaiting response... 200 OK\n",
            "Length: 98472 (96K) [application/zip]\n",
            "Saving to: ‘Dades.zip’\n",
            "\n",
            "\rDades.zip             0%[                    ]       0  --.-KB/s               \rDades.zip           100%[===================>]  96.16K  --.-KB/s    in 0.01s   \n",
            "\n",
            "2019-12-08 09:16:23 (8.90 MB/s) - ‘Dades.zip’ saved [98472/98472]\n",
            "\n"
          ],
          "name": "stdout"
        }
      ]
    },
    {
      "cell_type": "code",
      "metadata": {
        "id": "usBsXReWytej",
        "colab_type": "code",
        "colab": {}
      },
      "source": [
        "f = zipfile.ZipFile(\"Dades.zip\",'r')\n",
        "for file in f.namelist():\n",
        "    f.extract(file,\"./Dades/\")  # Guardar en el directori /Dades/\n",
        "f.close()"
      ],
      "execution_count": 0,
      "outputs": []
    },
    {
      "cell_type": "code",
      "metadata": {
        "id": "1fpu5K8RmziK",
        "colab_type": "code",
        "colab": {}
      },
      "source": [
        "data_transforms = {\n",
        "    'train': transforms.Compose([\n",
        "        transforms.RandomResizedCrop(224),\n",
        "        transforms.RandomHorizontalFlip(),\n",
        "        transforms.ToTensor(),\n",
        "        transforms.Normalize([0.485, 0.456, 0.406], [0.229, 0.224, 0.225])]),\n",
        "        'val': transforms.Compose([\n",
        "        transforms.Resize(256),\n",
        "        transforms.CenterCrop(224),\n",
        "        transforms.ToTensor(),\n",
        "        transforms.Normalize([0.485, 0.456, 0.406], [0.229, 0.224, 0.225])\n",
        "    ]),\n",
        "}"
      ],
      "execution_count": 0,
      "outputs": []
    },
    {
      "cell_type": "code",
      "metadata": {
        "id": "dFzuq4RemTuM",
        "colab_type": "code",
        "colab": {}
      },
      "source": [
        "data_dir = \"/root/Dades/tb2108/tb2108\"\n",
        "image_datasets = {x: datasets.ImageFolder(os.path.join(data_dir, x),\n",
        "                                          data_transforms[x])\n",
        "                  for x in ['train', 'val']}"
      ],
      "execution_count": 0,
      "outputs": []
    },
    {
      "cell_type": "code",
      "metadata": {
        "id": "hRoCqDdzmmLU",
        "colab_type": "code",
        "colab": {}
      },
      "source": [
        "dataloaders = {x: torch.utils.data.DataLoader(image_datasets[x], batch_size=4,\n",
        "                                             shuffle=True, num_workers=4)\n",
        "              for x in ['train', 'val']}"
      ],
      "execution_count": 0,
      "outputs": []
    },
    {
      "cell_type": "code",
      "metadata": {
        "id": "KYJmx_UomppD",
        "colab_type": "code",
        "colab": {}
      },
      "source": [
        "dataset_sizes = {x: len(image_datasets[x]) for x in ['train', 'val']}\n",
        "class_names = image_datasets['train'].classes\n",
        "\n",
        "device = torch.device(\"cuda:0\" if torch.cuda.is_available() else \"cpu\")"
      ],
      "execution_count": 0,
      "outputs": []
    },
    {
      "cell_type": "code",
      "metadata": {
        "id": "rN3xshRgmJhl",
        "colab_type": "code",
        "colab": {}
      },
      "source": [
        "def imshow(inp, title=None):\n",
        "    \"\"\"Imshow for Tensor.\"\"\"\n",
        "    inp = inp.numpy().transpose((1, 2, 0))\n",
        "    mean = np.array([0.485, 0.456, 0.406])\n",
        "    std = np.array([0.229, 0.224, 0.225])\n",
        "    inp = std * inp + mean\n",
        "    inp = np.clip(inp, 0, 1)\n",
        "    plt.imshow(inp)\n",
        "    if title is not None:\n",
        "        plt.title(title)\n",
        "    plt.pause(0.001) "
      ],
      "execution_count": 0,
      "outputs": []
    },
    {
      "cell_type": "code",
      "metadata": {
        "id": "nNbzJTw0mVYB",
        "colab_type": "code",
        "outputId": "aa2af0a3-a2e5-4c4f-f023-f8a4a1bbea45",
        "colab": {
          "base_uri": "https://localhost:8080/",
          "height": 148
        }
      },
      "source": [
        "inputs, classes = next(iter(dataloaders['train']))\n",
        "\n",
        "out = torchvision.utils.make_grid(inputs)\n",
        "\n",
        "imshow(out, title=[class_names[x] for x in classes])"
      ],
      "execution_count": 36,
      "outputs": [
        {
          "output_type": "display_data",
          "data": {
            "image/png": "[encoded data removed]",
            "text/plain": [
              "<Figure size 432x288 with 1 Axes>"
            ]
          },
          "metadata": {
            "tags": []
          }
        }
      ]
    },
    {
      "cell_type": "code",
      "metadata": {
        "id": "B4YO3TSqm3Q1",
        "colab_type": "code",
        "colab": {}
      },
      "source": [
        "def train_model(model, criterion, optimizer, scheduler, num_epochs=25):\n",
        "    since = time.time()\n",
        "\n",
        "    best_model_wts = copy.deepcopy(model.state_dict())\n",
        "    best_acc = 0.0\n",
        "\n",
        "    for epoch in range(num_epochs):\n",
        "        print('Epoch {}/{}'.format(epoch, num_epochs - 1))\n",
        "        print('-' * 10)\n",
        "\n",
        "        # Each epoch has a training and validation phase\n",
        "        for phase in ['train', 'val']:\n",
        "            if phase == 'train':\n",
        "                model.train()  # Set model to training mode\n",
        "            else:\n",
        "                model.eval()   # Set model to evaluate mode\n",
        "\n",
        "            running_loss = 0.0\n",
        "            running_corrects = 0\n",
        "\n",
        "            # Iterate over data.\n",
        "            for inputs, labels in dataloaders[phase]:\n",
        "                inputs = inputs.to(device)\n",
        "                labels = labels.to(device)\n",
        "\n",
        "                # zero the parameter gradients\n",
        "                optimizer.zero_grad()\n",
        "\n",
        "                # forward\n",
        "                # track history if only in train\n",
        "                with torch.set_grad_enabled(phase == 'train'):\n",
        "                    outputs = model(inputs)\n",
        "                    _, preds = torch.max(outputs, 1)\n",
        "                    loss = criterion(outputs, labels)\n",
        "\n",
        "                    # backward + optimize only if in training phase\n",
        "                    if phase == 'train':\n",
        "                        loss.backward()\n",
        "                        optimizer.step()\n",
        "\n",
        "                # statistics\n",
        "                running_loss += loss.item() * inputs.size(0)\n",
        "                running_corrects += torch.sum(preds == labels.data)\n",
        "            if phase == 'train':\n",
        "                scheduler.step()\n",
        "\n",
        "            epoch_loss = running_loss / dataset_sizes[phase]\n",
        "            epoch_acc = running_corrects.double() / dataset_sizes[phase]\n",
        "\n",
        "            print('{} Loss: {:.4f} Acc: {:.4f}'.format(\n",
        "                phase, epoch_loss, epoch_acc))\n",
        "\n",
        "            # deep copy the model\n",
        "            if phase == 'val' and epoch_acc > best_acc:\n",
        "                best_acc = epoch_acc\n",
        "                best_model_wts = copy.deepcopy(model.state_dict())\n",
        "\n",
        "        print()\n",
        "\n",
        "    time_elapsed = time.time() - since\n",
        "    print('Training complete in {:.0f}m {:.0f}s'.format(\n",
        "        time_elapsed // 60, time_elapsed % 60))\n",
        "    print('Best val Acc: {:4f}'.format(best_acc))\n",
        "\n",
        "    # load best model weights\n",
        "    model.load_state_dict(best_model_wts)\n",
        "    return model"
      ],
      "execution_count": 0,
      "outputs": []
    },
    {
      "cell_type": "code",
      "metadata": {
        "id": "-F_pDdBmnVtj",
        "colab_type": "code",
        "colab": {}
      },
      "source": [
        "def visualize_model(model, num_images=6):\n",
        "    was_training = model.training\n",
        "    model.eval()\n",
        "    images_so_far = 0\n",
        "    fig = plt.figure()\n",
        "\n",
        "    with torch.no_grad():\n",
        "        for i, (inputs, labels) in enumerate(dataloaders['val']):\n",
        "            inputs = inputs.to(device)\n",
        "            labels = labels.to(device)\n",
        "\n",
        "            outputs = model(inputs)\n",
        "            _, preds = torch.max(outputs, 1)\n",
        "\n",
        "            for j in range(inputs.size()[0]):\n",
        "                images_so_far += 1\n",
        "                ax = plt.subplot(num_images//2, 2, images_so_far)\n",
        "                ax.axis('off')\n",
        "                ax.set_title('predicted: {}'.format(class_names[preds[j]]))\n",
        "                imshow(inputs.cpu().data[j])\n",
        "\n",
        "                if images_so_far == num_images:\n",
        "                    model.train(mode=was_training)\n",
        "                    return\n",
        "        model.train(mode=was_training)"
      ],
      "execution_count": 0,
      "outputs": []
    },
    {
      "cell_type": "code",
      "metadata": {
        "id": "u3RrZOA3nbTa",
        "colab_type": "code",
        "colab": {
          "base_uri": "https://localhost:8080/",
          "height": 51
        },
        "outputId": "aeb53f77-f4cc-4083-f2bb-186fb571cfaa"
      },
      "source": [
        "model_ft = models.resnet18(pretrained=True)\n",
        "num_ftrs = model_ft.fc.in_features\n",
        "# Here the size of each output sample is set to 2.\n",
        "# Alternatively, it can be generalized to nn.Linear(num_ftrs, len(class_names)).\n",
        "model_ft.fc = nn.Linear(num_ftrs, 2)\n",
        "\n",
        "model_ft = model_ft.to(device)\n",
        "\n",
        "criterion = nn.CrossEntropyLoss()\n",
        "\n",
        "# Observe that all parameters are being optimized\n",
        "optimizer_ft = optim.SGD(model_ft.parameters(), lr=0.001, momentum=0.9)\n",
        "\n",
        "# Decay LR by a factor of 0.1 every 7 epochs\n",
        "exp_lr_scheduler = lr_scheduler.StepLR(optimizer_ft, step_size=7, gamma=0.1)"
      ],
      "execution_count": 39,
      "outputs": [
        {
          "output_type": "stream",
          "text": [
            "Downloading: \"https://download.pytorch.org/models/resnet18-5c106cde.pth\" to /root/.cache/torch/checkpoints/resnet18-5c106cde.pth\n",
            "100%|██████████| 44.7M/44.7M [00:00<00:00, 68.1MB/s]\n"
          ],
          "name": "stderr"
        }
      ]
    },
    {
      "cell_type": "code",
      "metadata": {
        "id": "v5HUxS7gne3f",
        "colab_type": "code",
        "outputId": "1bd84846-e331-47a4-e3fb-6a85697372bb",
        "colab": {
          "base_uri": "https://localhost:8080/",
          "height": 1000
        }
      },
      "source": [
        "model_ft = train_model(model_ft, criterion, optimizer_ft, exp_lr_scheduler,\n",
        "                       num_epochs=25)"
      ],
      "execution_count": 40,
      "outputs": [
        {
          "output_type": "stream",
          "text": [
            "Epoch 0/24\n",
            "----------\n",
            "train Loss: 0.6848 Acc: 0.6056\n",
            "val Loss: 0.9351 Acc: 0.5000\n",
            "\n",
            "Epoch 1/24\n",
            "----------\n",
            "train Loss: 0.6585 Acc: 0.6901\n",
            "val Loss: 0.3787 Acc: 0.7679\n",
            "\n",
            "Epoch 2/24\n",
            "----------\n",
            "train Loss: 0.6201 Acc: 0.6620\n",
            "val Loss: 0.4485 Acc: 0.8214\n",
            "\n",
            "Epoch 3/24\n",
            "----------\n",
            "train Loss: 0.8182 Acc: 0.5775\n",
            "val Loss: 0.3997 Acc: 0.8036\n",
            "\n",
            "Epoch 4/24\n",
            "----------\n",
            "train Loss: 0.5964 Acc: 0.6901\n",
            "val Loss: 0.3599 Acc: 0.8393\n",
            "\n",
            "Epoch 5/24\n",
            "----------\n",
            "train Loss: 0.4659 Acc: 0.8169\n",
            "val Loss: 0.2673 Acc: 0.9286\n",
            "\n",
            "Epoch 6/24\n",
            "----------\n",
            "train Loss: 0.6784 Acc: 0.7183\n",
            "val Loss: 0.5703 Acc: 0.7679\n",
            "\n",
            "Epoch 7/24\n",
            "----------\n",
            "train Loss: 0.4689 Acc: 0.7887\n",
            "val Loss: 0.2718 Acc: 0.9107\n",
            "\n",
            "Epoch 8/24\n",
            "----------\n",
            "train Loss: 0.5725 Acc: 0.7042\n",
            "val Loss: 0.2505 Acc: 0.8750\n",
            "\n",
            "Epoch 9/24\n",
            "----------\n",
            "train Loss: 0.5491 Acc: 0.7183\n",
            "val Loss: 0.2226 Acc: 0.9107\n",
            "\n",
            "Epoch 10/24\n",
            "----------\n",
            "train Loss: 0.4375 Acc: 0.7606\n",
            "val Loss: 0.2877 Acc: 0.8750\n",
            "\n",
            "Epoch 11/24\n",
            "----------\n",
            "train Loss: 0.2841 Acc: 0.8873\n",
            "val Loss: 0.2232 Acc: 0.9107\n",
            "\n",
            "Epoch 12/24\n",
            "----------\n",
            "train Loss: 0.3936 Acc: 0.8028\n",
            "val Loss: 0.1962 Acc: 0.9286\n",
            "\n",
            "Epoch 13/24\n",
            "----------\n",
            "train Loss: 0.3519 Acc: 0.8028\n",
            "val Loss: 0.1958 Acc: 0.9286\n",
            "\n",
            "Epoch 14/24\n",
            "----------\n",
            "train Loss: 0.3327 Acc: 0.8451\n",
            "val Loss: 0.1862 Acc: 0.9286\n",
            "\n",
            "Epoch 15/24\n",
            "----------\n",
            "train Loss: 0.3727 Acc: 0.8169\n",
            "val Loss: 0.2059 Acc: 0.9107\n",
            "\n",
            "Epoch 16/24\n",
            "----------\n",
            "train Loss: 0.3432 Acc: 0.8451\n",
            "val Loss: 0.1944 Acc: 0.9286\n",
            "\n",
            "Epoch 17/24\n",
            "----------\n",
            "train Loss: 0.3912 Acc: 0.8451\n",
            "val Loss: 0.1850 Acc: 0.9286\n",
            "\n",
            "Epoch 18/24\n",
            "----------\n",
            "train Loss: 0.4127 Acc: 0.8310\n",
            "val Loss: 0.2013 Acc: 0.9107\n",
            "\n",
            "Epoch 19/24\n",
            "----------\n",
            "train Loss: 0.4204 Acc: 0.7746\n",
            "val Loss: 0.1913 Acc: 0.9286\n",
            "\n",
            "Epoch 20/24\n",
            "----------\n",
            "train Loss: 0.3114 Acc: 0.8732\n",
            "val Loss: 0.2068 Acc: 0.9286\n",
            "\n",
            "Epoch 21/24\n",
            "----------\n",
            "train Loss: 0.5183 Acc: 0.7324\n",
            "val Loss: 0.1976 Acc: 0.9286\n",
            "\n",
            "Epoch 22/24\n",
            "----------\n",
            "train Loss: 0.3175 Acc: 0.8592\n",
            "val Loss: 0.1913 Acc: 0.9286\n",
            "\n",
            "Epoch 23/24\n",
            "----------\n",
            "train Loss: 0.3407 Acc: 0.8732\n",
            "val Loss: 0.1998 Acc: 0.9286\n",
            "\n",
            "Epoch 24/24\n",
            "----------\n",
            "train Loss: 0.3315 Acc: 0.8451\n",
            "val Loss: 0.1826 Acc: 0.9286\n",
            "\n",
            "Training complete in 8m 26s\n",
            "Best val Acc: 0.928571\n"
          ],
          "name": "stdout"
        }
      ]
    },
    {
      "cell_type": "code",
      "metadata": {
        "id": "ny4K4HdblSuM",
        "colab_type": "code",
        "outputId": "74839f25-7274-4b9c-e156-c663af44e61e",
        "colab": {
          "base_uri": "https://localhost:8080/",
          "height": 581
        }
      },
      "source": [
        "visualize_model(model_ft)"
      ],
      "execution_count": 41,
      "outputs": [
        {
          "output_type": "display_data",
          "data": {
            "image/png": "[encoded data removed]",
            "text/plain": [
              "<Figure size 432x288 with 1 Axes>"
            ]
          },
          "metadata": {
            "tags": []
          }
        },
        {
          "output_type": "display_data",
          "data": {
            "image/png": "[encoded data removed]",
            "text/plain": [
              "<Figure size 432x288 with 1 Axes>"
            ]
          },
          "metadata": {
            "tags": []
          }
        },
        {
          "output_type": "display_data",
          "data": {
            "image/png": "[encoded data removed]",
            "text/plain": [
              "<Figure size 432x288 with 1 Axes>"
            ]
          },
          "metadata": {
            "tags": []
          }
        },
        {
          "output_type": "display_data",
          "data": {
            "image/png": "[encoded data removed]",
            "text/plain": [
              "<Figure size 432x288 with 1 Axes>"
            ]
          },
          "metadata": {
            "tags": []
          }
        },
        {
          "output_type": "display_data",
          "data": {
            "image/png": "[encoded data removed]",
            "text/plain": [
              "<Figure size 432x288 with 1 Axes>"
            ]
          },
          "metadata": {
            "tags": []
          }
        },
        {
          "output_type": "display_data",
          "data": {
            "image/png": "[encoded data removed]",
            "text/plain": [
              "<Figure size 432x288 with 1 Axes>"
            ]
          },
          "metadata": {
            "tags": []
          }
        }
      ]
    },
    {
      "cell_type": "code",
      "metadata": {
        "id": "He2x3xs9lgFl",
        "colab_type": "code",
        "colab": {}
      },
      "source": [
        "model_conv = torchvision.models.resnet18(pretrained=True)\n",
        "for param in model_conv.parameters():\n",
        "    param.requires_grad = False"
      ],
      "execution_count": 0,
      "outputs": []
    },
    {
      "cell_type": "code",
      "metadata": {
        "id": "vZCeEIlXmLjO",
        "colab_type": "code",
        "colab": {}
      },
      "source": [
        "num_ftrs = model_conv.fc.in_features\n",
        "model_conv.fc = nn.Linear(num_ftrs, 2)\n",
        "\n",
        "model_conv = model_conv.to(device)\n",
        "\n",
        "criterion = nn.CrossEntropyLoss()"
      ],
      "execution_count": 0,
      "outputs": []
    },
    {
      "cell_type": "code",
      "metadata": {
        "id": "iHKPKbx6mS1W",
        "colab_type": "code",
        "colab": {}
      },
      "source": [
        "optimizer_conv = optim.SGD(model_conv.fc.parameters(), lr=0.001, momentum=0.9)\n",
        "\n",
        "# Decay LR by a factor of 0.1 every 7 epochs\n",
        "exp_lr_scheduler = lr_scheduler.StepLR(optimizer_conv, step_size=7, gamma=0.1)"
      ],
      "execution_count": 0,
      "outputs": []
    },
    {
      "cell_type": "code",
      "metadata": {
        "id": "McZfA4mumYA4",
        "colab_type": "code",
        "outputId": "acf86e92-457a-4ec1-a2bb-f8aec146c989",
        "colab": {
          "base_uri": "https://localhost:8080/",
          "height": 1000
        }
      },
      "source": [
        "model_conv = train_model(model_conv, criterion, optimizer_conv,\n",
        "                         exp_lr_scheduler, num_epochs=25)"
      ],
      "execution_count": 45,
      "outputs": [
        {
          "output_type": "stream",
          "text": [
            "Epoch 0/24\n",
            "----------\n",
            "train Loss: 0.8298 Acc: 0.5634\n",
            "val Loss: 0.9514 Acc: 0.5000\n",
            "\n",
            "Epoch 1/24\n",
            "----------\n",
            "train Loss: 0.7065 Acc: 0.5915\n",
            "val Loss: 0.5229 Acc: 0.8393\n",
            "\n",
            "Epoch 2/24\n",
            "----------\n",
            "train Loss: 0.6847 Acc: 0.6479\n",
            "val Loss: 0.4615 Acc: 0.8036\n",
            "\n",
            "Epoch 3/24\n",
            "----------\n",
            "train Loss: 0.5836 Acc: 0.6901\n",
            "val Loss: 0.6681 Acc: 0.5714\n",
            "\n",
            "Epoch 4/24\n",
            "----------\n",
            "train Loss: 0.8589 Acc: 0.5634\n",
            "val Loss: 0.7124 Acc: 0.5893\n",
            "\n",
            "Epoch 5/24\n",
            "----------\n",
            "train Loss: 0.8892 Acc: 0.6197\n",
            "val Loss: 1.0532 Acc: 0.5000\n",
            "\n",
            "Epoch 6/24\n",
            "----------\n",
            "train Loss: 0.6669 Acc: 0.6620\n",
            "val Loss: 0.5493 Acc: 0.6964\n",
            "\n",
            "Epoch 7/24\n",
            "----------\n",
            "train Loss: 0.6477 Acc: 0.6479\n",
            "val Loss: 0.3887 Acc: 0.8393\n",
            "\n",
            "Epoch 8/24\n",
            "----------\n",
            "train Loss: 0.4688 Acc: 0.7746\n",
            "val Loss: 0.3939 Acc: 0.8571\n",
            "\n",
            "Epoch 9/24\n",
            "----------\n",
            "train Loss: 0.4666 Acc: 0.7324\n",
            "val Loss: 0.3977 Acc: 0.8214\n",
            "\n",
            "Epoch 10/24\n",
            "----------\n",
            "train Loss: 0.5570 Acc: 0.6620\n",
            "val Loss: 0.4069 Acc: 0.8929\n",
            "\n",
            "Epoch 11/24\n",
            "----------\n",
            "train Loss: 0.5103 Acc: 0.7465\n",
            "val Loss: 0.4419 Acc: 0.8571\n",
            "\n",
            "Epoch 12/24\n",
            "----------\n",
            "train Loss: 0.5136 Acc: 0.7606\n",
            "val Loss: 0.4133 Acc: 0.8750\n",
            "\n",
            "Epoch 13/24\n",
            "----------\n",
            "train Loss: 0.5476 Acc: 0.6761\n",
            "val Loss: 0.3942 Acc: 0.8750\n",
            "\n",
            "Epoch 14/24\n",
            "----------\n",
            "train Loss: 0.5975 Acc: 0.6761\n",
            "val Loss: 0.4197 Acc: 0.8393\n",
            "\n",
            "Epoch 15/24\n",
            "----------\n",
            "train Loss: 0.4937 Acc: 0.7042\n",
            "val Loss: 0.4050 Acc: 0.8393\n",
            "\n",
            "Epoch 16/24\n",
            "----------\n",
            "train Loss: 0.4420 Acc: 0.8732\n",
            "val Loss: 0.4098 Acc: 0.8750\n",
            "\n",
            "Epoch 17/24\n",
            "----------\n",
            "train Loss: 0.3787 Acc: 0.8732\n",
            "val Loss: 0.4013 Acc: 0.8750\n",
            "\n",
            "Epoch 18/24\n",
            "----------\n",
            "train Loss: 0.5375 Acc: 0.7465\n",
            "val Loss: 0.4096 Acc: 0.8750\n",
            "\n",
            "Epoch 19/24\n",
            "----------\n",
            "train Loss: 0.5063 Acc: 0.8310\n",
            "val Loss: 0.4189 Acc: 0.9107\n",
            "\n",
            "Epoch 20/24\n",
            "----------\n",
            "train Loss: 0.4550 Acc: 0.8028\n",
            "val Loss: 0.3938 Acc: 0.8929\n",
            "\n",
            "Epoch 21/24\n",
            "----------\n",
            "train Loss: 0.4359 Acc: 0.8310\n",
            "val Loss: 0.4101 Acc: 0.8750\n",
            "\n",
            "Epoch 22/24\n",
            "----------\n",
            "train Loss: 0.4756 Acc: 0.7606\n",
            "val Loss: 0.4332 Acc: 0.8750\n",
            "\n",
            "Epoch 23/24\n",
            "----------\n",
            "train Loss: 0.4804 Acc: 0.7465\n",
            "val Loss: 0.4119 Acc: 0.8393\n",
            "\n",
            "Epoch 24/24\n",
            "----------\n",
            "train Loss: 0.4944 Acc: 0.6901\n",
            "val Loss: 0.3901 Acc: 0.8750\n",
            "\n",
            "Training complete in 3m 52s\n",
            "Best val Acc: 0.910714\n"
          ],
          "name": "stdout"
        }
      ]
    },
    {
      "cell_type": "code",
      "metadata": {
        "id": "s4nWeCTq33fP",
        "colab_type": "code",
        "colab": {
          "base_uri": "https://localhost:8080/",
          "height": 581
        },
        "outputId": "6e3a38b3-0914-4291-af9f-066f3f29c6bb"
      },
      "source": [
        "visualize_model(model_conv)\n",
        "\n",
        "plt.ioff()\n",
        "plt.show()"
      ],
      "execution_count": 46,
      "outputs": [
        {
          "output_type": "display_data",
          "data": {
            "image/png": "[encoded data removed]",
            "text/plain": [
              "<Figure size 432x288 with 1 Axes>"
            ]
          },
          "metadata": {
            "tags": []
          }
        },
        {
          "output_type": "display_data",
          "data": {
            "image/png": "[encoded data removed]",
            "text/plain": [
              "<Figure size 432x288 with 1 Axes>"
            ]
          },
          "metadata": {
            "tags": []
          }
        },
        {
          "output_type": "display_data",
          "data": {
            "image/png": "[encoded data removed]",
            "text/plain": [
              "<Figure size 432x288 with 1 Axes>"
            ]
          },
          "metadata": {
            "tags": []
          }
        },
        {
          "output_type": "display_data",
          "data": {
            "image/png": "[encoded data removed]",
            "text/plain": [
              "<Figure size 432x288 with 1 Axes>"
            ]
          },
          "metadata": {
            "tags": []
          }
        },
        {
          "output_type": "display_data",
          "data": {
            "image/png": "[encoded data removed]",
            "text/plain": [
              "<Figure size 432x288 with 1 Axes>"
            ]
          },
          "metadata": {
            "tags": []
          }
        },
        {
          "output_type": "display_data",
          "data": {
            "image/png": "[encoded data removed]",
            "text/plain": [
              "<Figure size 432x288 with 1 Axes>"
            ]
          },
          "metadata": {
            "tags": []
          }
        }
      ]
    }
  ]
}